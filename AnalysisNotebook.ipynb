{
 "cells": [
  {
   "cell_type": "code",
   "execution_count": 30,
   "metadata": {},
   "outputs": [],
   "source": [
    "from bs4 import BeautifulSoup\n",
    "import feedparser\n",
    "from datetime import date\n",
    "import pandas as pd\n",
    "import re  \n",
    "from nltk.corpus import stopwords \n",
    "from nltk.tokenize import word_tokenize \n",
    "stop_words = set(stopwords.words('english'))      \n"
   ]
  },
  {
   "cell_type": "code",
   "execution_count": 31,
   "metadata": {},
   "outputs": [],
   "source": [
    "data_level1=['arabl land','avail data','bureau statist','busi survey','cens publi','cens pop','children employ','civil registr','collect method','commerci export','complet rate','consum electr','consum energ','data access','data collect','data compil','data entri','data manag','data releas','data standard','data user','demograph data','densit popul','develop data','difusion dat','direct statist','disaggreg data','electr access','electr consumpt','energi consumpt','establish survey','exchang rate','extern debt','fertil rate','food import','food product','gender gap','govern debt','govern statist','gross domest','gross nation','health expenditur','health survey','import marchandis','improv data','improv statist','indic measur','indic preci','inflat rate','institut statist','interest payment','intern tourism','irrig land','land use','life expect','livestock product','merchandis export','merchandis trade','model statist','mortal rate','multilater debt','nation account','nation statist','nation survey','national brut','national statist','open data','part revenus','pay gap','popul census','popul growth','popul rate','price index','produccion aliment','purchas power','qualiti data','receit fiscal','releas data','revenu fiscal','rural popul','servic export','statist agenc','statist author','statist avail','statist committe','statist data','statist depart','statist national','statist offic','statist servic','statist studi','survey catalogu','tax payment','tax revenu','trade balanc','unemploy rate','use data','water suppli','youth unemploy']\n",
    "data_level_indicator = [' cpi ', ' fdi ', ' gdp ', ' gnp ', ' hdi ', ' wdi ']"
   ]
  },
  {
   "cell_type": "code",
   "execution_count": 50,
   "metadata": {},
   "outputs": [],
   "source": [
    "pd.read_csv('newspaper/static/datasets/ok.csv').dropna().to_csv('newspaper/static/datasets/ok.csv', index=False)"
   ]
  },
  {
   "cell_type": "code",
   "execution_count": 33,
   "metadata": {},
   "outputs": [],
   "source": [
    "def level1_count(article):\n",
    "    word_tokens = word_tokenize(article.lower().rstrip()) \n",
    "    filtered_sentence = [w for w in word_tokens if not w in stop_words] \n",
    "    \n",
    "    article = ' '.join(filtered_sentence)  \n",
    "    keyword_list = []\n",
    "    for word in data_level1:\n",
    "        search_ = (r\"\\b\"+word.split()[0]+r\"[a-zA-Z]*\\s\\b\"+word.split()[1]+\"[a-zA-Z]*\")\n",
    "        if re.search(search_, article):\n",
    "            keyword_list.append(word)\n",
    "    for word in data_level_indicator:\n",
    "        if (word in article):\n",
    "            keyword_list.append(word)\n",
    "    return keyword_list"
   ]
  },
  {
   "cell_type": "code",
   "execution_count": 55,
   "metadata": {},
   "outputs": [],
   "source": [
    "df_OK = pd.read_csv('newspaper/static/datasets/ok.csv')"
   ]
  },
  {
   "cell_type": "code",
   "execution_count": 56,
   "metadata": {},
   "outputs": [
    {
     "data": {
      "text/plain": [
       "url               0\n",
       "content           1\n",
       "category          0\n",
       "published_date    0\n",
       "dtype: int64"
      ]
     },
     "execution_count": 56,
     "metadata": {},
     "output_type": "execute_result"
    }
   ],
   "source": [
    "df_OK.isna().sum()"
   ]
  },
  {
   "cell_type": "code",
   "execution_count": 37,
   "metadata": {},
   "outputs": [],
   "source": [
    "df_OK = df_OK['content'].apply(level1_count)"
   ]
  },
  {
   "cell_type": "code",
   "execution_count": 38,
   "metadata": {},
   "outputs": [
    {
     "data": {
      "text/plain": [
       "0      []\n",
       "1      []\n",
       "2      []\n",
       "3      []\n",
       "4      []\n",
       "       ..\n",
       "413    []\n",
       "414    []\n",
       "415    []\n",
       "416    []\n",
       "417    []\n",
       "Name: content, Length: 418, dtype: object"
      ]
     },
     "execution_count": 38,
     "metadata": {},
     "output_type": "execute_result"
    }
   ],
   "source": [
    "df_OK"
   ]
  },
  {
   "cell_type": "code",
   "execution_count": 39,
   "metadata": {},
   "outputs": [],
   "source": [
    "df_HT = pd.read_csv('newspaper/static/datasets/ht.csv')"
   ]
  },
  {
   "cell_type": "code",
   "execution_count": 42,
   "metadata": {},
   "outputs": [
    {
     "data": {
      "text/html": [
       "<div>\n",
       "<style scoped>\n",
       "    .dataframe tbody tr th:only-of-type {\n",
       "        vertical-align: middle;\n",
       "    }\n",
       "\n",
       "    .dataframe tbody tr th {\n",
       "        vertical-align: top;\n",
       "    }\n",
       "\n",
       "    .dataframe thead th {\n",
       "        text-align: right;\n",
       "    }\n",
       "</style>\n",
       "<table border=\"1\" class=\"dataframe\">\n",
       "  <thead>\n",
       "    <tr style=\"text-align: right;\">\n",
       "      <th></th>\n",
       "      <th>url</th>\n",
       "      <th>content</th>\n",
       "      <th>category</th>\n",
       "      <th>published_date</th>\n",
       "    </tr>\n",
       "  </thead>\n",
       "  <tbody>\n",
       "    <tr>\n",
       "      <th>0</th>\n",
       "      <td>https://thehimalayantimes.com/finance/analysis...</td>\n",
       "      <td>\\r\\nFOREIGN AID PLAYS A CRITICAL ROLE IN INFRA...</td>\n",
       "      <td>/analysis</td>\n",
       "      <td>Sun, 27 Sep 2015 14:12:37 +0000</td>\n",
       "    </tr>\n",
       "    <tr>\n",
       "      <th>1</th>\n",
       "      <td>https://thehimalayantimes.com/finance/analysis...</td>\n",
       "      <td>\\r\\nEXPERTS OPINE THE LOSS INCURRED BY THE COU...</td>\n",
       "      <td>/analysis</td>\n",
       "      <td>Sat, 26 Sep 2015 19:45:19 +0000</td>\n",
       "    </tr>\n",
       "    <tr>\n",
       "      <th>2</th>\n",
       "      <td>https://thehimalayantimes.com/finance/analysis...</td>\n",
       "      <td>KATHMANDU: Coca-Cola recently came up with a c...</td>\n",
       "      <td>/analysis</td>\n",
       "      <td>Sun, 20 Sep 2015 14:08:57 +0000</td>\n",
       "    </tr>\n",
       "    <tr>\n",
       "      <th>3</th>\n",
       "      <td>https://thehimalayantimes.com/finance/analysis...</td>\n",
       "      <td>THERE IS NO CLARITY ON THE GOVERNMENT’S PLANS ...</td>\n",
       "      <td>/analysis</td>\n",
       "      <td>Sun, 20 Sep 2015 13:41:56 +0000</td>\n",
       "    </tr>\n",
       "    <tr>\n",
       "      <th>4</th>\n",
       "      <td>https://thehimalayantimes.com/finance/analysis...</td>\n",
       "      <td>By working only 66 days a year, will we be abl...</td>\n",
       "      <td>/analysis</td>\n",
       "      <td>Sun, 13 Sep 2015 11:15:42 +0000</td>\n",
       "    </tr>\n",
       "    <tr>\n",
       "      <th>...</th>\n",
       "      <td>...</td>\n",
       "      <td>...</td>\n",
       "      <td>...</td>\n",
       "      <td>...</td>\n",
       "    </tr>\n",
       "    <tr>\n",
       "      <th>4947</th>\n",
       "      <td>https://thehimalayantimes.com/world/finland-to...</td>\n",
       "      <td>HELSINKI: Finland’s woman-led center-left gove...</td>\n",
       "      <td>/world</td>\n",
       "      <td>Wed, 05 Feb 2020 08:49:55 +0000</td>\n",
       "    </tr>\n",
       "    <tr>\n",
       "      <th>4948</th>\n",
       "      <td>https://thehimalayantimes.com/world/unknowns-o...</td>\n",
       "      <td>SEOUL: Health authorities are scrambling to ha...</td>\n",
       "      <td>/world</td>\n",
       "      <td>Wed, 05 Feb 2020 06:29:44 +0000</td>\n",
       "    </tr>\n",
       "    <tr>\n",
       "      <th>4949</th>\n",
       "      <td>https://thehimalayantimes.com/world/china-viru...</td>\n",
       "      <td>\\n\\nDeath toll in mainland China rises by 65, ...</td>\n",
       "      <td>/world</td>\n",
       "      <td>Wed, 05 Feb 2020 01:35:14 +0000</td>\n",
       "    </tr>\n",
       "    <tr>\n",
       "      <th>4950</th>\n",
       "      <td>https://thehimalayantimes.com/world/hong-kong-...</td>\n",
       "      <td>\\n\\nMan dies in Hong Kong, taking global toll ...</td>\n",
       "      <td>/world</td>\n",
       "      <td>Tue, 04 Feb 2020 14:01:01 +0000</td>\n",
       "    </tr>\n",
       "    <tr>\n",
       "      <th>4951</th>\n",
       "      <td>https://thehimalayantimes.com/world/rushing-do...</td>\n",
       "      <td>NAIROBI: Fourteen children were killed in a st...</td>\n",
       "      <td>/world</td>\n",
       "      <td>Tue, 04 Feb 2020 12:33:21 +0000</td>\n",
       "    </tr>\n",
       "  </tbody>\n",
       "</table>\n",
       "<p>4952 rows × 4 columns</p>\n",
       "</div>"
      ],
      "text/plain": [
       "                                                    url  \\\n",
       "0     https://thehimalayantimes.com/finance/analysis...   \n",
       "1     https://thehimalayantimes.com/finance/analysis...   \n",
       "2     https://thehimalayantimes.com/finance/analysis...   \n",
       "3     https://thehimalayantimes.com/finance/analysis...   \n",
       "4     https://thehimalayantimes.com/finance/analysis...   \n",
       "...                                                 ...   \n",
       "4947  https://thehimalayantimes.com/world/finland-to...   \n",
       "4948  https://thehimalayantimes.com/world/unknowns-o...   \n",
       "4949  https://thehimalayantimes.com/world/china-viru...   \n",
       "4950  https://thehimalayantimes.com/world/hong-kong-...   \n",
       "4951  https://thehimalayantimes.com/world/rushing-do...   \n",
       "\n",
       "                                                content   category  \\\n",
       "0     \\r\\nFOREIGN AID PLAYS A CRITICAL ROLE IN INFRA...  /analysis   \n",
       "1     \\r\\nEXPERTS OPINE THE LOSS INCURRED BY THE COU...  /analysis   \n",
       "2     KATHMANDU: Coca-Cola recently came up with a c...  /analysis   \n",
       "3     THERE IS NO CLARITY ON THE GOVERNMENT’S PLANS ...  /analysis   \n",
       "4     By working only 66 days a year, will we be abl...  /analysis   \n",
       "...                                                 ...        ...   \n",
       "4947  HELSINKI: Finland’s woman-led center-left gove...     /world   \n",
       "4948  SEOUL: Health authorities are scrambling to ha...     /world   \n",
       "4949  \\n\\nDeath toll in mainland China rises by 65, ...     /world   \n",
       "4950  \\n\\nMan dies in Hong Kong, taking global toll ...     /world   \n",
       "4951  NAIROBI: Fourteen children were killed in a st...     /world   \n",
       "\n",
       "                       published_date  \n",
       "0     Sun, 27 Sep 2015 14:12:37 +0000  \n",
       "1     Sat, 26 Sep 2015 19:45:19 +0000  \n",
       "2     Sun, 20 Sep 2015 14:08:57 +0000  \n",
       "3     Sun, 20 Sep 2015 13:41:56 +0000  \n",
       "4     Sun, 13 Sep 2015 11:15:42 +0000  \n",
       "...                               ...  \n",
       "4947  Wed, 05 Feb 2020 08:49:55 +0000  \n",
       "4948  Wed, 05 Feb 2020 06:29:44 +0000  \n",
       "4949  Wed, 05 Feb 2020 01:35:14 +0000  \n",
       "4950  Tue, 04 Feb 2020 14:01:01 +0000  \n",
       "4951  Tue, 04 Feb 2020 12:33:21 +0000  \n",
       "\n",
       "[4952 rows x 4 columns]"
      ]
     },
     "execution_count": 42,
     "metadata": {},
     "output_type": "execute_result"
    }
   ],
   "source": [
    "df_HT."
   ]
  },
  {
   "cell_type": "code",
   "execution_count": null,
   "metadata": {},
   "outputs": [],
   "source": []
  }
 ],
 "metadata": {
  "kernelspec": {
   "display_name": "Python 3",
   "language": "python",
   "name": "python3"
  },
  "language_info": {
   "codemirror_mode": {
    "name": "ipython",
    "version": 3
   },
   "file_extension": ".py",
   "mimetype": "text/x-python",
   "name": "python",
   "nbconvert_exporter": "python",
   "pygments_lexer": "ipython3",
   "version": "3.7.3"
  }
 },
 "nbformat": 4,
 "nbformat_minor": 2
}
