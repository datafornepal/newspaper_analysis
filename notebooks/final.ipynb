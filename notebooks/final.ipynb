{
 "cells": [
  {
   "cell_type": "code",
   "execution_count": 1,
   "metadata": {},
   "outputs": [],
   "source": [
    "from bs4 import BeautifulSoup\n",
    "import feedparser\n",
    "from datetime import date\n",
    "import pandas as pd\n",
    "import numpy as np\n",
    "import re  \n",
    "from nltk.corpus import stopwords \n",
    "from nltk.tokenize import word_tokenize \n",
    "import time\n",
    "\n",
    "stop_words = stopwords.words('english')"
   ]
  },
  {
   "cell_type": "code",
   "execution_count": 2,
   "metadata": {},
   "outputs": [],
   "source": [
    "newspapers = [('https://thehimalayantimes.com/feed/', 'ht'), \n",
    "              ('https://english.onlinekhabar.com/feed', 'ok'),\n",
    "              ('https://www.nepalitimes.com/feed/', 'nt'),\n",
    "              ('https://kathmandutribune.com/feed/', 'kt'),\n",
    "              ('http://english.lokaantar.com/feed/', 'lk'),\n",
    "              ('https://www.nepalisansar.com/feed/', 'ns'),\n",
    "              ('http://telegraphnepal.com/feed/', 'tn'),\n",
    "              ]\n",
    "\n",
    "data_level1=['arabl land','avail data','bureau statist','busi survey','cens publi','cens pop','children employ','civil registr','collect method','commerci export','complet rate','consum electr','consum energ','data access','data collect','data compil','data entri','data manag','data releas','data standard','data user','demograph data','densit popul','develop data','difusion dat','direct statist','disaggreg data','electr access','electr consumpt','energi consumpt','establish survey','exchang rate','extern debt','fertil rate','food import','food product','gender gap','govern debt','govern statist','gross domest','gross nation','health expenditur','health survey','import marchandis','improv data','improv statist','indic measur','indic preci','inflat rate','institut statist','interest payment','intern tourism','irrig land','land use','life expect','livestock product','merchandis export','merchandis trade','model statist','mortal rate','multilater debt','nation account','nation statist','nation survey','national brut','national statist','open data','part revenus','pay gap','popul census','popul growth','popul rate','price index','produccion aliment','purchas power','qualiti data','receit fiscal','releas data','revenu fiscal','rural popul','servic export','statist agenc','statist author','statist avail','statist committe','statist data','statist depart','statist national','statist offic','statist servic','statist studi','survey catalogu','tax payment','tax revenu','trade balanc','unemploy rate','use data','water suppli','youth unemploy']\n",
    "\n",
    "data_level2=['accur','adequ','ambigu','ambígu','apropi','bancal','bias','confiabl','correct','deceit','deceiv','decept','defectu','delud','engan','equivoc','erreur','erro','erron','errone','error','exact','exat','fake','fallaci','faux','fiabl','generaliz','illus','imparcial','impartial','imprecis','improp','inaccur','incorrect','inexact','invalid','limit','manipul','mislead','mistaken','parcial','prec','precis','proper','reliabl','rigor','rigour','scientif','sol','solid','som','son','sound','spurious','tromp','trompeur','unbias','unreli','unscientif','unsound','vag','vagu','val','valid',]\n",
    "\n",
    "data_level3=['data manipul','lead question','manipul dat','report bias','sampl select','sampl size']\n",
    "\n",
    "data_level_indicator = [' cpi ', ' fdi ', ' gdp ', ' gnp ', ' hdi ', ' wdi ']\n",
    "\n",
    "filter_list=[' data ',' record ',' research ',' statistics ',' study ']"
   ]
  },
  {
   "cell_type": "code",
   "execution_count": 3,
   "metadata": {},
   "outputs": [],
   "source": [
    "def cleanHTML(raw_html):\n",
    "    text = BeautifulSoup(raw_html, \"lxml\").text\n",
    "    word_tokens = word_tokenize(text.lower().rstrip()) \n",
    "    filtered_sentence = [w for w in word_tokens if not w in stop_words] \n",
    "    return ' '.join(filtered_sentence)\n",
    "\n",
    "def performRSSNew(url, newspaper):\n",
    "    all_links = []\n",
    "    NewsFeed = feedparser.parse(url)\n",
    "    entries = NewsFeed.entries\n",
    "    for entry in entries:\n",
    "            content =  cleanHTML(entry.content[0].value)\n",
    "            published = entry.published\n",
    "            temp_dict = ({'url': entry.link, \n",
    "            'content': content , \n",
    "            'newspaper': newspaper,\n",
    "            'published_date': published})\n",
    "            all_links.append(temp_dict)    \n",
    "    return all_links\n",
    "\n",
    "def level1_count(article):\n",
    "    if article:\n",
    "        keyword_list = []\n",
    "        for word in data_level1:\n",
    "            search_ = (r\"\\b\"+word.split()[0]+r\"[a-zA-Z]*\\s\\b\"+word.split()[1]+\"[a-zA-Z]*\")\n",
    "            if re.search(search_, article):\n",
    "                keyword_list.append(word)\n",
    "        for word in data_level_indicator:\n",
    "            if (word in article):\n",
    "                keyword_list.append(word)\n",
    "        return keyword_list\n",
    "    return []\n",
    "\n",
    "def level2_count(article, valid):\n",
    "    if valid==1:\n",
    "        keyword_list = []\n",
    "        for word in data_level2:\n",
    "            search_ = (r\"\\b\"+word+r\"[a-zA-Z]*\")\n",
    "            if re.search(search_, article):\n",
    "                keyword_list.append(word)\n",
    "        return keyword_list\n",
    "    return []\n",
    "\n",
    "\n",
    "def level3_count(article, valid):\n",
    "    if valid==1:\n",
    "        keyword_list = []\n",
    "        for word in data_level3:\n",
    "            search_ = (r\"\\b\"+word+r\"[a-zA-Z]*\")\n",
    "            if re.search(search_, article):\n",
    "                keyword_list.append(word)\n",
    "        return keyword_list\n",
    "    return []\n",
    "\n",
    "def level_len(count_list):\n",
    "    if type(count_list) == str:\n",
    "        return 1 if len(count_list)>2 else 0\n",
    "    return 1 if len(count_list)>0 else 0\n",
    "\n",
    "\n",
    "def level_2_3_filter(article):\n",
    "    for word in filter_list:\n",
    "        if word in article:\n",
    "            return 1\n",
    "    return 0"
   ]
  },
  {
   "cell_type": "markdown",
   "metadata": {},
   "source": [
    "### Fetch all"
   ]
  },
  {
   "cell_type": "code",
   "execution_count": 9,
   "metadata": {},
   "outputs": [],
   "source": [
    "def fetch_merge_analyze_data_new(reset_analysis = False):\n",
    "    start = time.time()\n",
    "    prev_all = pd.read_csv('newspaper/static/datasets/all.csv')\n",
    "\n",
    "    for newspaper in newspapers:\n",
    "        temp = pd.DataFrame(performRSSNew(newspaper[0], newspaper[1]))\n",
    "        df_ALL = pd.concat([prev_all, temp], sort=False)\n",
    "    \n",
    "    df_ALL = df_ALL.drop_duplicates(subset='url', keep=\"first\").reset_index(drop=True) \n",
    "     \n",
    "    print ('fetch_data and compile_data', time.time() - start)\n",
    "    \n",
    "    if (reset_analysis):\n",
    "        df_ALL['level1'] = np.nan\n",
    "        df_ALL['level2'] = np.nan\n",
    "        df_ALL['level3'] = np.nan\n",
    "        print ('reset_data', time.time() - start)\n",
    "    \n",
    " \n",
    "    df_ALL['level1'] = df_ALL.apply(lambda x: level1_count(x['content']) if pd.isnull(x.level1) else x.level1, axis=1)\n",
    "    df_ALL['level_len'] = df_ALL['level1'].apply(level_len)\n",
    "    \n",
    "    print ('level_1_analysis', time.time() - start)\n",
    "    \n",
    "    df_ALL['level_2_3_valid'] = df_ALL['content'].apply(level_2_3_filter)\n",
    "    print ('level_2_filter ', time.time() - start)\n",
    "    \n",
    "    df_ALL['level2'] =  df_ALL.apply(lambda x: level2_count(x['content'], x['level_2_3_valid']) if pd.isnull(x.level2) else x.level2, axis=1)\n",
    "    df_ALL['level2_len'] = df_ALL.level2.apply(level_len)\n",
    "    print ('level_2_analysis ', time.time() - start)\n",
    "    \n",
    "    df_ALL['level3'] =  df_ALL.apply(lambda x: level3_count(x['content'], x['level_2_3_valid']) if pd.isnull(x.level3) else x.level3, axis=1)\n",
    "    df_ALL['level3_len'] = df_ALL.level3.apply(level_len)\n",
    "    print ('level_3_analysis ', time.time() - start)\n",
    "    \n",
    "    df_ALL.to_csv('newspaper/static/datasets/all.csv', index=False)\n",
    "    return df_ALL"
   ]
  },
  {
   "cell_type": "code",
   "execution_count": 10,
   "metadata": {},
   "outputs": [
    {
     "name": "stdout",
     "output_type": "stream",
     "text": [
      "fetch_data and compile_data 13.636696815490723\n",
      "reset_data 13.638661623001099\n",
      "level_1_analysis 41.81199932098389\n",
      "level_2_filter  41.871524810791016\n",
      "level_2_analysis  47.032191038131714\n",
      "level_3_analysis  47.72442674636841\n"
     ]
    }
   ],
   "source": [
    "temp = fetch_merge_analyze_data_new(reset_analysis = True)"
   ]
  }
 ],
 "metadata": {
  "kernelspec": {
   "display_name": "Python 3",
   "language": "python",
   "name": "python3"
  },
  "language_info": {
   "codemirror_mode": {
    "name": "ipython",
    "version": 3
   },
   "file_extension": ".py",
   "mimetype": "text/x-python",
   "name": "python",
   "nbconvert_exporter": "python",
   "pygments_lexer": "ipython3",
   "version": "3.7.3"
  }
 },
 "nbformat": 4,
 "nbformat_minor": 4
}
